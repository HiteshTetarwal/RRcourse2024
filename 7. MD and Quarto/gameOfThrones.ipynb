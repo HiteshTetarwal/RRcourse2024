{
  "cells": [
    {
      "cell_type": "markdown",
      "metadata": {},
      "source": [
        "```markdown\n",
        "---\n",
        "title: \"Viewership Analysis of Game of Thrones\"\n",
        "author: \"Hitesh Kumar Tetarwal 455361\"\n",
        "date: \"`r Sys.Date()`\"\n",
        "format: html\n",
        "---\n",
        "\n",
        "# Introduction\n",
        "\n",
        "*Game of Thrones* is an American fantasy drama television series created by David Benioff and D. B. Weiss. It is an adaptation of \"A Song of Ice and Fire,\" George R. R. Martin's series of fantasy novels. The series aired on HBO from April 17, 2011, to May 19, 2019.\n",
        "\n",
        "# Viewership Data Extraction\n",
        "\n",
        "The viewership data for each episode of *Game of Thrones* is extracted from Wikipedia."
      ],
      "id": "11b6b5fd"
    },
    {
      "cell_type": "code",
      "metadata": {},
      "source": [
        "import requests\n",
        "from bs4 import BeautifulSoup\n",
        "import pandas as pd\n",
        "\n",
        "# URL of the Wikipedia page for Game of Thrones\n",
        "url = \"https://en.wikipedia.org/wiki/Game_of_Thrones\"\n",
        "\n",
        "# Fetch the webpage\n",
        "response = requests.get(url)\n",
        "\n",
        "# Parse the page using BeautifulSoup\n",
        "soup = BeautifulSoup(response.content, 'html.parser')\n",
        "\n",
        "# Find the table containing viewership data\n",
        "# Usually, this is one of the tables with 'wikitable plainrowheaders wikiepisodetable'\n",
        "tables = soup.find_all('table', {'class': 'wikitable plainrowheaders wikiepisodetable'})\n",
        "\n",
        "# Check if the correct table is found and read it\n",
        "if tables:\n",
        "    viewership_df = pd.read_html(str(tables[0]), header=0)[0]  # Adjust if the index is different\n",
        "\n",
        "    # Display the first few rows of the dataframe to check its structure\n",
        "    print(viewership_df.head())"
      ],
      "id": "547f090c",
      "execution_count": null,
      "outputs": []
    },
    {
      "cell_type": "code",
      "metadata": {},
      "source": [
        "# Display column names\n",
        "print(viewership_df.columns)\n",
        "\n",
        "# Rename columns for better clarity\n",
        "viewership_df.rename(columns={\n",
        "    'No. in season': 'Episode',\n",
        "    'U.S. viewers (millions)': 'Viewers'\n",
        "}, inplace=True)\n",
        "\n",
        "# Convert 'Viewers' column to numeric, handling non-numeric data\n",
        "viewership_df['Viewers'] = pd.to_numeric(viewership_df['Viewers'].str.extract('(\\d+\\.\\d+)')[0], errors='coerce')\n",
        "\n",
        "# Show the cleaned data\n",
        "print(viewership_df.head())"
      ],
      "id": "84a0ef1b",
      "execution_count": null,
      "outputs": []
    },
    {
      "cell_type": "code",
      "metadata": {},
      "source": [
        "import matplotlib.pyplot as plt\n",
        "\n",
        "# Plotting the viewership trends\n",
        "plt.figure(figsize=(12, 6))\n",
        "plt.plot(viewership_df['Episode'], viewership_df['Viewers'], marker='o', linestyle='-')\n",
        "plt.title('Viewership Trends of Game of Thrones Across Episodes')\n",
        "plt.xlabel('Episode Number')\n",
        "plt.ylabel('Viewers (millions)')\n",
        "plt.grid(True)\n",
        "plt.show()"
      ],
      "id": "98e50faf",
      "execution_count": null,
      "outputs": []
    },
    {
      "cell_type": "markdown",
      "metadata": {},
      "source": [
        "# Conclusion\n",
        "\n",
        "This analysis provides insights into how the viewership of *Game of Thrones* fluctuated over its airing period, reflecting the show's immense popularity and widespread critical acclaim.\n",
        "```"
      ],
      "id": "e59b8b1f"
    }
  ],
  "metadata": {
    "kernelspec": {
      "name": "python3",
      "language": "python",
      "display_name": "Python 3 (ipykernel)"
    }
  },
  "nbformat": 4,
  "nbformat_minor": 5
}