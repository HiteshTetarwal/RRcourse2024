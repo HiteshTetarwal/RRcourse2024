{
  "cells": [
    {
      "cell_type": "raw",
      "metadata": {},
      "source": [
        "---\n",
        "title: \"Viewership Analysis of Suits\"\n",
        "author: \"Hitesh Kumar Tetarwal 455361\"\n",
        "date: \"`r Sys.Date()`\"\n",
        "format: html\n",
        "---"
      ],
      "id": "e0b746e1"
    },
    {
      "cell_type": "markdown",
      "metadata": {},
      "source": [
        "# Introduction\n",
        "\n",
        "*Suits* is an American legal drama television series that revolves around talented college dropout Mike Ross, who starts working as a law associate for Harvey Specter despite never attending law school. The series aired on USA Network from June 23, 2011, to September 25, 2019.\n",
        "\n",
        "# Viewership Data Extraction\n",
        "\n",
        "The viewership data for each episode of *Suits* is extracted from Wikipedia."
      ],
      "id": "c92a1ef2"
    },
    {
      "cell_type": "markdown",
      "metadata": {},
      "source": [
        "import requests\n",
        "from bs4 import BeautifulSoup\n",
        "import pandas as pd\n",
        "import matplotlib.pyplot as plt\n",
        "\n",
        "# URL of the Wikipedia page\n",
        "url = \"https://en.wikipedia.org/wiki/List_of_Suits_episodes\"\n",
        "\n",
        "# Fetch the webpage\n",
        "response = requests.get(url)\n",
        "\n",
        "# Parse the page using BeautifulSoup\n",
        "soup = BeautifulSoup(response.content, 'html.parser')\n",
        "\n",
        "# Find all tables with class 'wikitable'\n",
        "tables = soup.find_all('table', {'class': 'wikitable'})\n",
        "\n",
        "# Extract the first table to a dataframe\n",
        "viewership_df = pd.read_html(str(tables[1]))[0]  # Adjust index based on the right table\n",
        "\n",
        "# Print the column names to check and adjust if necessary\n",
        "print(viewership_df.columns)\n",
        "\n",
        "# Rename columns if the names are different\n",
        "if 'No. overall' in viewership_df.columns:\n",
        "    viewership_df.rename(columns={'No. overall': 'Episode', 'U.S. viewers(millions)': 'Viewers'}, inplace=True)\n",
        "elif 'No.' in viewership_df.columns:\n",
        "    viewership_df.rename(columns={'No.': 'Episode', 'U.S. viewers(millions)': 'Viewers'}, inplace=True)\n",
        "else:\n",
        "    raise ValueError(\"Expected column for episode number not found in the data.\")\n",
        "\n",
        "# Convert viewers column to numeric, removing any unwanted characters\n",
        "viewership_df['Viewers'] = pd.to_numeric(viewership_df['Viewers'].str.extract('(\\d+\\.\\d+)')[0])\n",
        "\n",
        "# Plotting the viewership data\n",
        "plt.figure(figsize=(10, 5))\n",
        "plt.plot(viewership_df['Episode'], viewership_df['Viewers'], marker='o', linestyle='-')\n",
        "plt.title('Viewership Trends of Suits Across Episodes')\n",
        "plt.xlabel('Episode Number')\n",
        "plt.ylabel('Viewers (millions)')\n",
        "plt.grid(True)\n",
        "plt.show()"
      ],
      "id": "579d66cc"
    }
  ],
  "metadata": {
    "kernelspec": {
      "name": "python3",
      "language": "python",
      "display_name": "Python 3 (ipykernel)"
    }
  },
  "nbformat": 4,
  "nbformat_minor": 5
}